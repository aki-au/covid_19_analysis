{
  "cells": [
    {
      "cell_type": "code",
      "execution_count": null,
      "metadata": {
        "colab": {
          "base_uri": "https://localhost:8080/"
        },
        "id": "x_PbyPg2aV4j",
        "outputId": "6e483e26-cd12-400c-8b11-d13afa3ad8d5"
      },
      "outputs": [
        {
          "name": "stdout",
          "output_type": "stream",
          "text": [
            "Mounted at /content/drive\n"
          ]
        }
      ],
      "source": [
        "import pandas as pd\n",
        "import numpy as np \n",
        "from matplotlib import style\n",
        "import matplotlib.pyplot as plt\n",
        "import datetime\n",
        "import seaborn as sns\n",
        "\n",
        "import warnings\n",
        "warnings.filterwarnings('ignore')\n",
        "\n",
        "from google.colab import files\n",
        "import pickle\n",
        "import pickle\n",
        "from google.colab import drive\n",
        "\n",
        "drive.mount('/content/drive', force_remount=True)\n",
        "import os\n",
        "os.chdir('drive/MyDrive/result')"
      ]
    },
    {
      "cell_type": "code",
      "execution_count": null,
      "metadata": {
        "colab": {
          "base_uri": "https://localhost:8080/"
        },
        "id": "QA1wYNWwqRfC",
        "outputId": "27732143-2e50-4754-cf4a-a7bf14720ea7"
      },
      "outputs": [
        {
          "data": {
            "text/plain": [
              "country_name     object\n",
              "country_code     object\n",
              "indicator        object\n",
              "2018            float64\n",
              "2019            float64\n",
              "2020            float64\n",
              "2021            float64\n",
              "dtype: object"
            ]
          },
          "execution_count": 3,
          "metadata": {},
          "output_type": "execute_result"
        }
      ],
      "source": [
        "df =pd.read_csv('/content/drive/MyDrive/Colab Notebooks/Fall_2022/Datasets/GDP_PER_CAPITA/gdp - gdp.csv')\n",
        "df= df[['Country Name', 'Country Code', 'Indicator Name', '2018', '2019', '2020', '2021']]\n",
        "df=df.rename(columns={'Country Name': \"country_name\", 'Country Code': \"country_code\",'Indicator Name':'indicator'})\n",
        "df.dtypes"
      ]
    },
    {
      "cell_type": "code",
      "execution_count": null,
      "metadata": {
        "colab": {
          "base_uri": "https://localhost:8080/"
        },
        "id": "iVWodNxkqsYb",
        "outputId": "bf14e629-e5e4-4e6a-a612-8453b59451dd"
      },
      "outputs": [
        {
          "name": "stdout",
          "output_type": "stream",
          "text": [
            "                    country_name country_code                     indicator  \\\n",
            "0                          Aruba          ABW  GDP per capita (current US$)   \n",
            "1    Africa Eastern and Southern          AFE  GDP per capita (current US$)   \n",
            "2                    Afghanistan          AFG  GDP per capita (current US$)   \n",
            "3     Africa Western and Central          AFW  GDP per capita (current US$)   \n",
            "4                         Angola          AGO  GDP per capita (current US$)   \n",
            "..                           ...          ...                           ...   \n",
            "261                       Kosovo          XKX  GDP per capita (current US$)   \n",
            "262                  Yemen, Rep.          YEM  GDP per capita (current US$)   \n",
            "263                 South Africa          ZAF  GDP per capita (current US$)   \n",
            "264                       Zambia          ZMB  GDP per capita (current US$)   \n",
            "265                     Zimbabwe          ZWE  GDP per capita (current US$)   \n",
            "\n",
            "             2018          2019          2020         2021  \n",
            "0    30253.714230  31135.884360  23384.298790          NaN  \n",
            "1     1541.031661   1511.309259   1360.878645  1557.722682  \n",
            "2      485.668419    494.179350    516.747871          NaN  \n",
            "3     1704.135698   1777.852822   1709.764129  1774.921218  \n",
            "4     2524.942483   2177.799015   1631.431691  2137.909393  \n",
            "..            ...           ...           ...          ...  \n",
            "261   4384.048892   4416.108358   4310.811183  4986.582469  \n",
            "262    758.145949    750.554583    631.681490   690.759273  \n",
            "263   7005.095413   6624.761865   5655.867654  6994.211654  \n",
            "264   1516.368371   1305.001031    985.132436  1120.630171  \n",
            "265   1254.642265   1316.740657   1214.509820  1737.173977  \n",
            "\n",
            "[266 rows x 7 columns]\n"
          ]
        }
      ],
      "source": [
        "\n",
        "print(df)\n",
        "df.to_csv('/content/drive/MyDrive/Colab Notebooks/Fall_2022/Datasets/GDP_PER_CAPITA/modified_gdp.csv',index=False)"
      ]
    },
    {
      "cell_type": "code",
      "execution_count": null,
      "metadata": {
        "id": "pRt82QjoA6FL"
      },
      "outputs": [],
      "source": [
        "df_inflation =pd.read_csv('/content/drive/MyDrive/Colab Notebooks/Fall_2022/Datasets/Inflation/inflation.csv')\n",
        "# df_inflation\n",
        "df_inflation= df_inflation[['Country Name', 'Country Code', 'Indicator Name', '2018', '2019', '2020', '2021']]\n",
        "df_inflation=df_inflation.rename(columns={'Country Name': \"country_name\", 'Country Code': \"country_code\",'Indicator Name':'indicator'})\n",
        "# df_inflation\n",
        "df_inflation.to_csv('/content/drive/MyDrive/Colab Notebooks/Fall_2022/Datasets/Inflation/modified_inflation.csv',index=False)"
      ]
    },
    {
      "cell_type": "code",
      "execution_count": null,
      "metadata": {
        "id": "6E1pXcblJZ_h"
      },
      "outputs": [],
      "source": [
        "df_oil = pd.read_csv('/content/drive/MyDrive/Colab Notebooks/Fall_2022/Datasets/Oil_rents/oil_rents.csv')\n",
        "df_oil= df_oil[['Country Name', 'Country Code', 'Indicator Name', '2018', '2019', '2020', '2021']]\n",
        "df_oil=df_oil.rename(columns={'Country Name': \"country_name\", 'Country Code': \"country_code\",'Indicator Name':'indicator'})\n",
        "# df_oil\n",
        "df_oil.to_csv('/content/drive/MyDrive/Colab Notebooks/Fall_2022/Datasets/Oil_rents/modified_oil.csv',index=False)"
      ]
    },
    {
      "cell_type": "markdown",
      "metadata": {
        "id": "fjJIg19mDhqV"
      },
      "source": []
    }
  ],
  "metadata": {
    "colab": {
      "provenance": []
    },
    "kernelspec": {
      "display_name": "Python 3",
      "name": "python3"
    },
    "language_info": {
      "name": "python"
    }
  },
  "nbformat": 4,
  "nbformat_minor": 0
}
